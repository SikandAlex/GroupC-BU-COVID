{
 "cells": [
  {
   "cell_type": "code",
   "execution_count": 1,
   "metadata": {},
   "outputs": [],
   "source": [
    "import snap"
   ]
  },
  {
   "cell_type": "markdown",
   "metadata": {},
   "source": [
    "# Generating Erdos-Renyi / Barabasi-Albert Graphs with SNAP"
   ]
  },
  {
   "cell_type": "code",
   "execution_count": null,
   "metadata": {},
   "outputs": [],
   "source": [
    "# BU statistics\n",
    "# https://www.bu.edu/president/boston-university-facts-stats/\n",
    "\n",
    "# Generates a random Erdos-Renyi graph with a specified number of nodes and edges\n",
    "def gen_ER_graph(nodes, prob):\n",
    "    g = snap.GenRndGnm(snap.PUNGraph, nodes, prob)\n",
    "    return g \n",
    "\n",
    "# 16,000 undergrads, \n",
    "undergrad_er = gen_ER_graph(16000, 10000) \n",
    "\n",
    "for e in undergrad_er.Edges():\n",
    "    # Iterate through the edges and print out the source and destination for each edge\n",
    "    #print(\"edge: (%d, %d)\" % (e.GetSrcNId(), e.GetDstNId()))\n",
    "    pass"
   ]
  },
  {
   "cell_type": "code",
   "execution_count": null,
   "metadata": {},
   "outputs": [],
   "source": [
    "# Preferential attachment means nodes are more likely to connected to other nodes nearby \n",
    "\n",
    "# Generates a Barabasi-Albert preferential attachment graph with a specified # of nodes and out-degree\n",
    "def gen_BA_graph(nodes, out_degree):\n",
    "    g = snap.GenPrefAttach(nodes, out_degree)\n",
    "    return g\n",
    "\n",
    "undergrad_ba = gen_BA_graph(16000, 5)\n",
    "\n",
    "for e in undergrad_ba.Edges():\n",
    "    # Iterate through the edges and print out the source and destination for each edge\n",
    "    #print(\"edge: (%d, %d)\" % (e.GetSrcNId(), e.GetDstNId()))\n",
    "    pass"
   ]
  },
  {
   "cell_type": "markdown",
   "metadata": {},
   "source": [
    "# Delaine's contact network generation code"
   ]
  },
  {
   "cell_type": "code",
   "execution_count": 2,
   "metadata": {},
   "outputs": [
    {
     "ename": "ImportError",
     "evalue": "dlopen(/Users/alex/.local/lib/python3.7/site-packages/_snap.so, 2): Symbol not found: _PyBytes_AsString\n  Referenced from: /Users/alex/.local/lib/python3.7/site-packages/_snap.so\n  Expected in: /System/Library/Frameworks/Python.framework/Versions/2.7/Python\n in /Users/alex/.local/lib/python3.7/site-packages/_snap.so",
     "output_type": "error",
     "traceback": [
      "\u001b[0;31m---------------------------------------------------------------------------\u001b[0m",
      "\u001b[0;31mImportError\u001b[0m                               Traceback (most recent call last)",
      "\u001b[0;32m~/opt/miniconda3/lib/python3.7/site-packages/snap.py\u001b[0m in \u001b[0;36mswig_import_helper\u001b[0;34m()\u001b[0m\n\u001b[1;32m     17\u001b[0m         \u001b[0;32mtry\u001b[0m\u001b[0;34m:\u001b[0m\u001b[0;34m\u001b[0m\u001b[0;34m\u001b[0m\u001b[0m\n\u001b[0;32m---> 18\u001b[0;31m             \u001b[0;32mreturn\u001b[0m \u001b[0mimportlib\u001b[0m\u001b[0;34m.\u001b[0m\u001b[0mimport_module\u001b[0m\u001b[0;34m(\u001b[0m\u001b[0mmname\u001b[0m\u001b[0;34m)\u001b[0m\u001b[0;34m\u001b[0m\u001b[0;34m\u001b[0m\u001b[0m\n\u001b[0m\u001b[1;32m     19\u001b[0m         \u001b[0;32mexcept\u001b[0m \u001b[0mImportError\u001b[0m\u001b[0;34m:\u001b[0m\u001b[0;34m\u001b[0m\u001b[0;34m\u001b[0m\u001b[0m\n",
      "\u001b[0;32m~/opt/miniconda3/lib/python3.7/importlib/__init__.py\u001b[0m in \u001b[0;36mimport_module\u001b[0;34m(name, package)\u001b[0m\n\u001b[1;32m    126\u001b[0m             \u001b[0mlevel\u001b[0m \u001b[0;34m+=\u001b[0m \u001b[0;36m1\u001b[0m\u001b[0;34m\u001b[0m\u001b[0;34m\u001b[0m\u001b[0m\n\u001b[0;32m--> 127\u001b[0;31m     \u001b[0;32mreturn\u001b[0m \u001b[0m_bootstrap\u001b[0m\u001b[0;34m.\u001b[0m\u001b[0m_gcd_import\u001b[0m\u001b[0;34m(\u001b[0m\u001b[0mname\u001b[0m\u001b[0;34m[\u001b[0m\u001b[0mlevel\u001b[0m\u001b[0;34m:\u001b[0m\u001b[0;34m]\u001b[0m\u001b[0;34m,\u001b[0m \u001b[0mpackage\u001b[0m\u001b[0;34m,\u001b[0m \u001b[0mlevel\u001b[0m\u001b[0;34m)\u001b[0m\u001b[0;34m\u001b[0m\u001b[0;34m\u001b[0m\u001b[0m\n\u001b[0m\u001b[1;32m    128\u001b[0m \u001b[0;34m\u001b[0m\u001b[0m\n",
      "\u001b[0;32m~/opt/miniconda3/lib/python3.7/importlib/_bootstrap.py\u001b[0m in \u001b[0;36m_gcd_import\u001b[0;34m(name, package, level)\u001b[0m\n",
      "\u001b[0;32m~/opt/miniconda3/lib/python3.7/importlib/_bootstrap.py\u001b[0m in \u001b[0;36m_find_and_load\u001b[0;34m(name, import_)\u001b[0m\n",
      "\u001b[0;32m~/opt/miniconda3/lib/python3.7/importlib/_bootstrap.py\u001b[0m in \u001b[0;36m_find_and_load_unlocked\u001b[0;34m(name, import_)\u001b[0m\n",
      "\u001b[0;32m~/opt/miniconda3/lib/python3.7/importlib/_bootstrap.py\u001b[0m in \u001b[0;36m_load_unlocked\u001b[0;34m(spec)\u001b[0m\n",
      "\u001b[0;32m~/opt/miniconda3/lib/python3.7/importlib/_bootstrap.py\u001b[0m in \u001b[0;36mmodule_from_spec\u001b[0;34m(spec)\u001b[0m\n",
      "\u001b[0;32m~/opt/miniconda3/lib/python3.7/importlib/_bootstrap_external.py\u001b[0m in \u001b[0;36mcreate_module\u001b[0;34m(self, spec)\u001b[0m\n",
      "\u001b[0;32m~/opt/miniconda3/lib/python3.7/importlib/_bootstrap.py\u001b[0m in \u001b[0;36m_call_with_frames_removed\u001b[0;34m(f, *args, **kwds)\u001b[0m\n",
      "\u001b[0;31mImportError\u001b[0m: dlopen(/Users/alex/.local/lib/python3.7/site-packages/_snap.so, 2): Symbol not found: _PyBytes_AsString\n  Referenced from: /Users/alex/.local/lib/python3.7/site-packages/_snap.so\n  Expected in: /System/Library/Frameworks/Python.framework/Versions/2.7/Python\n in /Users/alex/.local/lib/python3.7/site-packages/_snap.so",
      "\nDuring handling of the above exception, another exception occurred:\n",
      "\u001b[0;31mImportError\u001b[0m                               Traceback (most recent call last)",
      "\u001b[0;32m<ipython-input-2-bbbb3e025177>\u001b[0m in \u001b[0;36m<module>\u001b[0;34m\u001b[0m\n\u001b[1;32m      7\u001b[0m \"\"\"\n\u001b[1;32m      8\u001b[0m \u001b[0;34m\u001b[0m\u001b[0m\n\u001b[0;32m----> 9\u001b[0;31m \u001b[0;32mimport\u001b[0m \u001b[0msnap\u001b[0m\u001b[0;34m\u001b[0m\u001b[0;34m\u001b[0m\u001b[0m\n\u001b[0m\u001b[1;32m     10\u001b[0m \u001b[0;32mimport\u001b[0m \u001b[0mnumpy\u001b[0m \u001b[0;32mas\u001b[0m \u001b[0mnp\u001b[0m\u001b[0;34m\u001b[0m\u001b[0;34m\u001b[0m\u001b[0m\n\u001b[1;32m     11\u001b[0m \u001b[0;34m\u001b[0m\u001b[0m\n",
      "\u001b[0;32m~/opt/miniconda3/lib/python3.7/site-packages/snap.py\u001b[0m in \u001b[0;36m<module>\u001b[0;34m\u001b[0m\n\u001b[1;32m     19\u001b[0m         \u001b[0;32mexcept\u001b[0m \u001b[0mImportError\u001b[0m\u001b[0;34m:\u001b[0m\u001b[0;34m\u001b[0m\u001b[0;34m\u001b[0m\u001b[0m\n\u001b[1;32m     20\u001b[0m             \u001b[0;32mreturn\u001b[0m \u001b[0mimportlib\u001b[0m\u001b[0;34m.\u001b[0m\u001b[0mimport_module\u001b[0m\u001b[0;34m(\u001b[0m\u001b[0;34m'_snap'\u001b[0m\u001b[0;34m)\u001b[0m\u001b[0;34m\u001b[0m\u001b[0;34m\u001b[0m\u001b[0m\n\u001b[0;32m---> 21\u001b[0;31m     \u001b[0m_snap\u001b[0m \u001b[0;34m=\u001b[0m \u001b[0mswig_import_helper\u001b[0m\u001b[0;34m(\u001b[0m\u001b[0;34m)\u001b[0m\u001b[0;34m\u001b[0m\u001b[0;34m\u001b[0m\u001b[0m\n\u001b[0m\u001b[1;32m     22\u001b[0m     \u001b[0;32mdel\u001b[0m \u001b[0mswig_import_helper\u001b[0m\u001b[0;34m\u001b[0m\u001b[0;34m\u001b[0m\u001b[0m\n\u001b[1;32m     23\u001b[0m \u001b[0;32melif\u001b[0m \u001b[0m_swig_python_version_info\u001b[0m \u001b[0;34m>=\u001b[0m \u001b[0;34m(\u001b[0m\u001b[0;36m2\u001b[0m\u001b[0;34m,\u001b[0m \u001b[0;36m6\u001b[0m\u001b[0;34m,\u001b[0m \u001b[0;36m0\u001b[0m\u001b[0;34m)\u001b[0m\u001b[0;34m:\u001b[0m\u001b[0;34m\u001b[0m\u001b[0;34m\u001b[0m\u001b[0m\n",
      "\u001b[0;32m~/opt/miniconda3/lib/python3.7/site-packages/snap.py\u001b[0m in \u001b[0;36mswig_import_helper\u001b[0;34m()\u001b[0m\n\u001b[1;32m     18\u001b[0m             \u001b[0;32mreturn\u001b[0m \u001b[0mimportlib\u001b[0m\u001b[0;34m.\u001b[0m\u001b[0mimport_module\u001b[0m\u001b[0;34m(\u001b[0m\u001b[0mmname\u001b[0m\u001b[0;34m)\u001b[0m\u001b[0;34m\u001b[0m\u001b[0;34m\u001b[0m\u001b[0m\n\u001b[1;32m     19\u001b[0m         \u001b[0;32mexcept\u001b[0m \u001b[0mImportError\u001b[0m\u001b[0;34m:\u001b[0m\u001b[0;34m\u001b[0m\u001b[0;34m\u001b[0m\u001b[0m\n\u001b[0;32m---> 20\u001b[0;31m             \u001b[0;32mreturn\u001b[0m \u001b[0mimportlib\u001b[0m\u001b[0;34m.\u001b[0m\u001b[0mimport_module\u001b[0m\u001b[0;34m(\u001b[0m\u001b[0;34m'_snap'\u001b[0m\u001b[0;34m)\u001b[0m\u001b[0;34m\u001b[0m\u001b[0;34m\u001b[0m\u001b[0m\n\u001b[0m\u001b[1;32m     21\u001b[0m     \u001b[0m_snap\u001b[0m \u001b[0;34m=\u001b[0m \u001b[0mswig_import_helper\u001b[0m\u001b[0;34m(\u001b[0m\u001b[0;34m)\u001b[0m\u001b[0;34m\u001b[0m\u001b[0;34m\u001b[0m\u001b[0m\n\u001b[1;32m     22\u001b[0m     \u001b[0;32mdel\u001b[0m \u001b[0mswig_import_helper\u001b[0m\u001b[0;34m\u001b[0m\u001b[0;34m\u001b[0m\u001b[0m\n",
      "\u001b[0;32m~/opt/miniconda3/lib/python3.7/importlib/__init__.py\u001b[0m in \u001b[0;36mimport_module\u001b[0;34m(name, package)\u001b[0m\n\u001b[1;32m    125\u001b[0m                 \u001b[0;32mbreak\u001b[0m\u001b[0;34m\u001b[0m\u001b[0;34m\u001b[0m\u001b[0m\n\u001b[1;32m    126\u001b[0m             \u001b[0mlevel\u001b[0m \u001b[0;34m+=\u001b[0m \u001b[0;36m1\u001b[0m\u001b[0;34m\u001b[0m\u001b[0;34m\u001b[0m\u001b[0m\n\u001b[0;32m--> 127\u001b[0;31m     \u001b[0;32mreturn\u001b[0m \u001b[0m_bootstrap\u001b[0m\u001b[0;34m.\u001b[0m\u001b[0m_gcd_import\u001b[0m\u001b[0;34m(\u001b[0m\u001b[0mname\u001b[0m\u001b[0;34m[\u001b[0m\u001b[0mlevel\u001b[0m\u001b[0;34m:\u001b[0m\u001b[0;34m]\u001b[0m\u001b[0;34m,\u001b[0m \u001b[0mpackage\u001b[0m\u001b[0;34m,\u001b[0m \u001b[0mlevel\u001b[0m\u001b[0;34m)\u001b[0m\u001b[0;34m\u001b[0m\u001b[0;34m\u001b[0m\u001b[0m\n\u001b[0m\u001b[1;32m    128\u001b[0m \u001b[0;34m\u001b[0m\u001b[0m\n\u001b[1;32m    129\u001b[0m \u001b[0;34m\u001b[0m\u001b[0m\n",
      "\u001b[0;31mImportError\u001b[0m: dlopen(/Users/alex/.local/lib/python3.7/site-packages/_snap.so, 2): Symbol not found: _PyBytes_AsString\n  Referenced from: /Users/alex/.local/lib/python3.7/site-packages/_snap.so\n  Expected in: /System/Library/Frameworks/Python.framework/Versions/2.7/Python\n in /Users/alex/.local/lib/python3.7/site-packages/_snap.so"
     ]
    }
   ],
   "source": [
    "#!/usr/bin/env python3\n",
    "# -*- coding: utf-8 -*-\n",
    "\"\"\"\n",
    "Created on Tue Dec 15 00:12:14 2020\n",
    "\n",
    "@author: delainerogers\n",
    "\"\"\"\n",
    "\n",
    "import snap\n",
    "import numpy as np\n",
    "\n",
    "def create_connections(graph, id_range_1, id_range_2, connections):\n",
    "    for i in id_range_1:\n",
    "        network = np.random.choice(id_range_2, connections)\n",
    "        for j in network:\n",
    "            graph.AddEdge(i, int(j))\n",
    "\n",
    "def create_subpopulation(graph, people, id_range, connections, role, age_range):\n",
    "    for i in id_range:\n",
    "        person = {}\n",
    "        person[\"age\"] = np.random.choice(age_range)\n",
    "        person[\"role\"] = role\n",
    "        person[\"id\"] = i\n",
    "        people.append(person)\n",
    "        graph.AddNode(i)\n",
    "    create_connections(graph, id_range, id_range, connections)\n",
    "            \n",
    "def generate_network(undergrad_connections=11, \n",
    "                     grad_connections=11, \n",
    "                     faculty_connections=5,\n",
    "                     staff_connections=20, \n",
    "                     undergrad_to_grad=5, \n",
    "                     undergrad_to_faculty=3,\n",
    "                     grad_to_faculty=5, \n",
    "                     staff_to_undergrad=20,\n",
    "                     staff_to_grad=15,\n",
    "                     staff_to_faculty=5):\n",
    "    \n",
    "    scaling_factor = 0.001\n",
    "    undergrads = int(17000 * scaling_factor)\n",
    "    grads = int(15000 * scaling_factor)\n",
    "    faculty = int(4000 * scaling_factor)\n",
    "    staff = int(6000 * scaling_factor)\n",
    "    total = undergrads + grads + faculty + staff\n",
    "    \n",
    "    # Generate lists of ids\n",
    "    start_id = 0\n",
    "    undergrad_range = range(undergrads)\n",
    "    start_id += undergrads\n",
    "    grad_range = range(start_id, start_id + grads)\n",
    "    start_id += grads\n",
    "    faculty_range = range(start_id, start_id + faculty)\n",
    "    start_id += faculty\n",
    "    staff_range = range(start_id, start_id + staff)\n",
    "\n",
    "    people = []\n",
    "    \n",
    "    #G2 = snap.GenRndGnm(snap.PUNGraph, 100, 1000)\n",
    "    G1 = snap.TUNGraph.New()\n",
    "\n",
    "    # Create undergrad population and their connections\n",
    "    create_subpopulation(G1, people, undergrad_range, undergrad_connections, \"undergrad\", range(17,23))\n",
    "    \n",
    "    # Create grad population and their connections\n",
    "    create_subpopulation(G1, people, grad_range, grad_connections, \"grad\", range(21,30))\n",
    "    \n",
    "    # Create faculty population and their connections\n",
    "    create_subpopulation(G1, people, faculty_range, faculty_connections, \"faculty\", range(30,70))\n",
    "    \n",
    "    # Create staff population and their connections\n",
    "    create_subpopulation(G1, people, staff_range, staff_connections, \"staff\", range(18,70))\n",
    "    \n",
    "    # Create connections between different populations\n",
    "    # Undergrad to grad\n",
    "    create_connections(G1, undergrad_range, grad_range, undergrad_to_grad)\n",
    "    \n",
    "    # Undergrad to faculty\n",
    "    create_connections(G1, undergrad_range, faculty_range, undergrad_to_faculty)\n",
    "    \n",
    "    # Grad to faculty\n",
    "    create_connections(G1, grad_range, faculty_range, grad_to_faculty)\n",
    "    \n",
    "    # Staff to everyone\n",
    "    create_connections(G1, staff_range, undergrad_range, staff_to_undergrad)\n",
    "    create_connections(G1, staff_range, grad_range, staff_to_grad)\n",
    "    create_connections(G1, staff_range, faculty_range, staff_to_faculty)\n",
    "    \n",
    "    return G1, people"
   ]
  },
  {
   "cell_type": "code",
   "execution_count": null,
   "metadata": {},
   "outputs": [],
   "source": []
  }
 ],
 "metadata": {
  "kernelspec": {
   "display_name": "Python 3",
   "language": "python",
   "name": "python3"
  },
  "language_info": {
   "codemirror_mode": {
    "name": "ipython",
    "version": 3
   },
   "file_extension": ".py",
   "mimetype": "text/x-python",
   "name": "python",
   "nbconvert_exporter": "python",
   "pygments_lexer": "ipython3",
   "version": "3.7.7"
  }
 },
 "nbformat": 4,
 "nbformat_minor": 4
}
